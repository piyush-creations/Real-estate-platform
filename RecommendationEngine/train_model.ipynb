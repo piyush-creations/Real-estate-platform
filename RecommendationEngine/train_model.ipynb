{
 "cells": [
  {
   "cell_type": "code",
   "execution_count": 1,
   "id": "4bc57a29-fc24-431f-8218-b5bdb216338d",
   "metadata": {},
   "outputs": [],
   "source": [
    "from sklearn.metrics.pairwise import cosine_similarity"
   ]
  },
  {
   "cell_type": "code",
   "execution_count": 13,
   "id": "5be6e3a3",
   "metadata": {},
   "outputs": [],
   "source": [
    "data = [{'id': '67f18cc3115c5719d6ef789e', 'Price': 12000000, 'Location': 'Kydganj', 'propertyFor': 'Sale', 'propertyType': 'Flat', 'Bedrooms': 3, 'Bathrooms': 1}, {'id': '67f2599e51d051201a0c90ce', 'Price': 6200000, 'Location': 'Naini', 'propertyFor': 'Sale', 'propertyType': 'Flat', 'Bedrooms': 3, 'Bathrooms': 3}, {'id': '67f25aa851d051201a0c90d0', 'Price': 12500000, 'Location': 'civillines', 'propertyFor': 'Sale', 'propertyType': 'Flat', 'Bedrooms': 5, 'Bathrooms': 4}, {'id': '67f25b0051d051201a0c90d1', 'Price': 7100000, 'Location': 'Rajrooppur', 'propertyFor': 'Sale', 'propertyType': 'Flat', 'Bedrooms': 3, 'Bathrooms': 2}, {'id': '67f25b4351d051201a0c90d2', 'Price': 9800000, 'Location': 'Ashoknagar', 'propertyFor': 'Sale', 'propertyType': 'Flat', 'Bedrooms': 4, 'Bathrooms': 3}, {'id': '67f269b1e7e611c199f7f311', 'Price': 5799998, 'Location': 'kydganj', 'propertyFor': 'Sale', 'propertyType': 'Flat', 'Bedrooms': 3, 'Bathrooms': 2}, {'id': '67f26a3ce7e611c199f7f313', 'Price': 11299998, 'Location': 'meerapur', 'propertyFor': 'Sale', 'propertyType': 'Flat', 'Bedrooms': 5, 'Bathrooms': 4}, {'id': '67f26ae3e7e611c199f7f315', 'Price': 6700000, 'Location': 'Civillines', 'propertyFor': 'Sale', 'propertyType': 'Flat', 'Bedrooms': 2, 'Bathrooms': 2}, {'id': '67f26b70e7e611c199f7f317', 'Price': 9500000, 'Location': 'Naini', 'propertyFor': 'Sale', 'propertyType': 'Flat', 'Bedrooms': 4, 'Bathrooms': 3}]"
   ]
  },
  {
   "cell_type": "code",
   "execution_count": null,
   "id": "bd4da2e9",
   "metadata": {},
   "outputs": [
    {
     "ename": "NameError",
     "evalue": "name 'data' is not defined",
     "output_type": "error",
     "traceback": [
      "\u001b[31m---------------------------------------------------------------------------\u001b[39m",
      "\u001b[31mNameError\u001b[39m                                 Traceback (most recent call last)",
      "\u001b[36mCell\u001b[39m\u001b[36m \u001b[39m\u001b[32mIn[2]\u001b[39m\u001b[32m, line 1\u001b[39m\n\u001b[32m----> \u001b[39m\u001b[32m1\u001b[39m sample = \u001b[43mdata\u001b[49m[\u001b[32m0\u001b[39m]\n\u001b[32m      2\u001b[39m X = []\n\u001b[32m      4\u001b[39m \u001b[38;5;28;01mdef\u001b[39;00m\u001b[38;5;250m \u001b[39m\u001b[34mgetPfIndex\u001b[39m(sample, data):\n",
      "\u001b[31mNameError\u001b[39m: name 'data' is not defined"
     ]
    }
   ],
   "source": [
    "sample = data[0]\n",
    "X = []\n",
    "\n",
    "def getPfIndex(sample, data):\n",
    "  return int(sample[\"propertyFor\"] == data[\"propertyFor\"])\n",
    "\n",
    "def getPriceIndex(sample, data):\n",
    "  pctRange = 20\n",
    "  pctVal = (sample[\"Price\"] * pctRange) / 100\n",
    "  rangeList = [sample[\"Price\"] - pctVal, sample[\"Price\"] + pctVal]\n",
    "\n",
    "  if rangeList[0] >= data[\"Price\"] or rangeList[1] <= data[\"Price\"]:\n",
    "    return 0\n",
    "  else:\n",
    "    return 1\n",
    "\n",
    "def getAreaIndex(sample, data):\n",
    "  pctRange = 50\n",
    "  pctVal = (sample[\"Area\"] * pctRange) / 100\n",
    "  rangeList = [sample[\"Area\"] - pctVal, sample[\"Area\"] + pctVal]\n",
    "\n",
    "  if rangeList[0] >= data[\"Area\"] or rangeList[1] <= data[\"Area\"]:\n",
    "    return 0\n",
    "  else:\n",
    "    return 1\n",
    "\n",
    "for prop in data:\n",
    "  features = []\n",
    "  pfIndex = getPfIndex(sample, prop)\n",
    "  priceIndex = getPriceIndex(sample, prop)\n",
    "  areaIndex = getAreaIndex(sample, prop)\n",
    "  features.append(pfIndex)\n",
    "  features.append(priceIndex)\n",
    "  features.append(areaIndex)\n",
    "\n",
    "  X.append(features)\n",
    "\n",
    "similarity_index = cosine_similarity(X)"
   ]
  },
  {
   "cell_type": "code",
   "execution_count": 55,
   "id": "6845c760",
   "metadata": {},
   "outputs": [
    {
     "data": {
      "text/plain": [
       "['67f2599e51d051201a0c90ce',\n",
       " '67f25aa851d051201a0c90d0',\n",
       " '67f25b0051d051201a0c90d1']"
      ]
     },
     "execution_count": 55,
     "metadata": {},
     "output_type": "execute_result"
    }
   ],
   "source": [
    "similar_to_first = similarity_index[0]\n",
    "property_mapping = {}\n",
    "\n",
    "for index, prop in enumerate(data):\n",
    "  property_mapping[prop[\"id\"]] = float(similar_to_first[index])\n",
    "\n",
    "recommendation = []\n",
    "threshold = 0.7\n",
    "\n",
    "for key in property_mapping.keys():\n",
    "  if property_mapping[key] >= threshold:\n",
    "    recommendation.append(key)\n",
    "\n",
    "recommendation[1:]"
   ]
  }
 ],
 "metadata": {
  "kernelspec": {
   "display_name": "Python 3",
   "language": "python",
   "name": "python3"
  },
  "language_info": {
   "codemirror_mode": {
    "name": "ipython",
    "version": 3
   },
   "file_extension": ".py",
   "mimetype": "text/x-python",
   "name": "python",
   "nbconvert_exporter": "python",
   "pygments_lexer": "ipython3",
   "version": "3.12.6"
  }
 },
 "nbformat": 4,
 "nbformat_minor": 5
}
